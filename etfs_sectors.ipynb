{
 "cells": [
  {
   "cell_type": "code",
   "execution_count": 1,
   "metadata": {},
   "outputs": [],
   "source": [
    "from bs4 import BeautifulSoup\n",
    "import requests"
   ]
  },
  {
   "cell_type": "code",
   "execution_count": 2,
   "metadata": {},
   "outputs": [],
   "source": [
    "def get_performance_info(ticker):\n",
    "    #find etfs performance from Yahoo Finance\n",
    "    title = ['YTD','1M','3M','1Y','3Y','5Y','10Y','Last Bull Market','Last Bear Market']\n",
    "    performance_info = requests.get(f'https://finance.yahoo.com/quote/{ticker}/performance?p={ticker}')\n",
    "    soup = BeautifulSoup(performance_info.content, 'html.parser')\n",
    "    info = soup.find_all('section', class_ = 'Pb(20px) smartphone_Px(20px) smartphone_Mt(20px) undefined')\n",
    "    performance = {}\n",
    "    for ind,i in enumerate(info[0].find_all('div')[6].find_all('div')[2:]):\n",
    "        try:\n",
    "            performance[title[ind]] = float(i.find_all('span')[3].get_text()[:-1])\n",
    "        except:\n",
    "            performance[title[ind]]= None\n",
    "    return performance  "
   ]
  },
  {
   "cell_type": "code",
   "execution_count": 3,
   "metadata": {},
   "outputs": [],
   "source": [
    "def get_distribution_among_sectors(ticker):  \n",
    "    #find etfs distribution among sectors from Yahoo Finance\n",
    "    etf_info_yahoo = requests.get(f'https://finance.yahoo.com/quote/{ticker}/holdings?p={ticker}')\n",
    "    soup_yahoo = BeautifulSoup(etf_info_yahoo.content, 'html.parser')\n",
    "    sectors = {}\n",
    "    info = soup_yahoo.find_all('div', class_ = 'W(48%) smartphone_W(100%) Fl(start)')\n",
    "    for i in info[0].find_all('div')[5].find_all('div')[1:]:\n",
    "        try:\n",
    "            sectors[i.find_all('span')[0].get_text()] = float(i.find_all('span')[4].get_text()[:-1])\n",
    "        except:\n",
    "            continue\n",
    "    return sectors"
   ]
  },
  {
   "cell_type": "code",
   "execution_count": 4,
   "metadata": {},
   "outputs": [],
   "source": [
    "ticker='angl'"
   ]
  },
  {
   "cell_type": "code",
   "execution_count": 5,
   "metadata": {},
   "outputs": [
    {
     "data": {
      "text/plain": [
       "{'YTD': 0.27,\n",
       " '1M': 0.37,\n",
       " '3M': 3.04,\n",
       " '1Y': 14.5,\n",
       " '3Y': 8.51,\n",
       " '5Y': 11.58,\n",
       " '10Y': 0.0,\n",
       " 'Last Bull Market': 0.0,\n",
       " 'Last Bear Market': 0.0}"
      ]
     },
     "execution_count": 5,
     "metadata": {},
     "output_type": "execute_result"
    }
   ],
   "source": [
    "get_performance_info(ticker)"
   ]
  },
  {
   "cell_type": "code",
   "execution_count": 6,
   "metadata": {},
   "outputs": [
    {
     "data": {
      "text/plain": [
       "{'Basic Materials': 0.0,\n",
       " 'Consumer Cyclical': 0.0,\n",
       " 'Financial Services': 100.0,\n",
       " 'Real Estate': 0.0,\n",
       " 'Consumer Defensive': 0.0,\n",
       " 'Healthcare': 0.0,\n",
       " 'Utilities': 0.0,\n",
       " 'Communication Services': 0.0,\n",
       " 'Energy': 0.0,\n",
       " 'Industrials': 0.0,\n",
       " 'Technology': 0.0}"
      ]
     },
     "execution_count": 6,
     "metadata": {},
     "output_type": "execute_result"
    }
   ],
   "source": [
    "get_distribution_among_sectors(ticker)"
   ]
  },
  {
   "cell_type": "code",
   "execution_count": null,
   "metadata": {},
   "outputs": [],
   "source": []
  }
 ],
 "metadata": {
  "kernelspec": {
   "display_name": "Python 3",
   "language": "python",
   "name": "python3"
  },
  "language_info": {
   "codemirror_mode": {
    "name": "ipython",
    "version": 3
   },
   "file_extension": ".py",
   "mimetype": "text/x-python",
   "name": "python",
   "nbconvert_exporter": "python",
   "pygments_lexer": "ipython3",
   "version": "3.8.3"
  },
  "varInspector": {
   "cols": {
    "lenName": 16,
    "lenType": 16,
    "lenVar": 40
   },
   "kernels_config": {
    "python": {
     "delete_cmd_postfix": "",
     "delete_cmd_prefix": "del ",
     "library": "var_list.py",
     "varRefreshCmd": "print(var_dic_list())"
    },
    "r": {
     "delete_cmd_postfix": ") ",
     "delete_cmd_prefix": "rm(",
     "library": "var_list.r",
     "varRefreshCmd": "cat(var_dic_list()) "
    }
   },
   "types_to_exclude": [
    "module",
    "function",
    "builtin_function_or_method",
    "instance",
    "_Feature"
   ],
   "window_display": false
  }
 },
 "nbformat": 4,
 "nbformat_minor": 2
}
